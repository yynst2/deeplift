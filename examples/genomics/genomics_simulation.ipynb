{
 "cells": [
  {
   "cell_type": "code",
   "execution_count": 1,
   "metadata": {
    "collapsed": true
   },
   "outputs": [],
   "source": [
    "from __future__ import print_function"
   ]
  },
  {
   "cell_type": "markdown",
   "metadata": {},
   "source": [
    "## Genomics example\n",
    "\n",
    "This will explore how importance scores from three different methods compare on simulated genomic data.\n",
    "\n",
    "The simulated data was as follows:\n",
    "\n",
    "- 1/4 sequences with 1-3 instances of a GATA_disc1 motif embedded (see http://compbio.mit.edu/encode-motifs/ for the PWM); these were labelled 1,0,0\n",
    "- 1/4 sequences with 1-3 instances of a TAL1_known1 motif embedded; these were labelled 0,1,0\n",
    "- 1/4 sequences with BOTH 1-3 instances of a GATA_disc1 motif AND 1-3 instances of a TAL1_known1 motif; these were labelled 1,1,1\n",
    "- 1/4 sequences with no motif\n",
    "\n",
    "Scores for all three tasks for sequences that contain both TAL1_known1 and GATA_disc1 motifs are analyzed in this notebook"
   ]
  },
  {
   "cell_type": "markdown",
   "metadata": {},
   "source": [
    "## Obtain data and keras model\n",
    "We will download genomic data and model\n",
    "\n",
    "### Download the data and model"
   ]
  },
  {
   "cell_type": "code",
   "execution_count": 1,
   "metadata": {},
   "outputs": [
    {
     "name": "stdout",
     "output_type": "stream",
     "text": [
      "--2020-07-30 17:46:45--  https://raw.githubusercontent.com/AvantiShri/model_storage/db919b12f750e5844402153233249bb3d24e9e9a/deeplift/genomics/sequences.simdata.gz\n",
      "Resolving raw.githubusercontent.com (raw.githubusercontent.com)... 151.101.184.133\n",
      "Connecting to raw.githubusercontent.com (raw.githubusercontent.com)|151.101.184.133|:443... connected.\n",
      "HTTP request sent, awaiting response... 200 OK\n",
      "Length: 629502 (615K) [application/octet-stream]\n",
      "Saving to: ‘sequences.simdata.gz’\n",
      "\n",
      "100%[======================================>] 629,502     --.-K/s   in 0.05s   \n",
      "\n",
      "2020-07-30 17:46:46 (11.8 MB/s) - ‘sequences.simdata.gz’ saved [629502/629502]\n",
      "\n",
      "--2020-07-30 17:46:46--  https://raw.githubusercontent.com/AvantiShri/model_storage/b6e1d69/deeplift/genomics/keras2_conv1d_record_5_model_PQzyq_modelJson.json\n",
      "Resolving raw.githubusercontent.com (raw.githubusercontent.com)... 151.101.184.133\n",
      "Connecting to raw.githubusercontent.com (raw.githubusercontent.com)|151.101.184.133|:443... connected.\n",
      "HTTP request sent, awaiting response... 200 OK\n",
      "Length: 3010 (2.9K) [text/plain]\n",
      "Saving to: ‘keras2_conv1d_record_5_model_PQzyq_modelJson.json’\n",
      "\n",
      "100%[======================================>] 3,010       --.-K/s   in 0s      \n",
      "\n",
      "2020-07-30 17:46:46 (12.5 MB/s) - ‘keras2_conv1d_record_5_model_PQzyq_modelJson.json’ saved [3010/3010]\n",
      "\n",
      "--2020-07-30 17:46:46--  https://raw.githubusercontent.com/AvantiShri/model_storage/b6e1d69/deeplift/genomics/keras2_conv1d_record_5_model_PQzyq_modelWeights.h5\n",
      "Resolving raw.githubusercontent.com (raw.githubusercontent.com)... 151.101.184.133\n",
      "Connecting to raw.githubusercontent.com (raw.githubusercontent.com)|151.101.184.133|:443... connected.\n",
      "HTTP request sent, awaiting response... 200 OK\n",
      "Length: 153864 (150K) [application/octet-stream]\n",
      "Saving to: ‘keras2_conv1d_record_5_model_PQzyq_modelWeights.h5’\n",
      "\n",
      "100%[======================================>] 153,864     --.-K/s   in 0.02s   \n",
      "\n",
      "2020-07-30 17:46:47 (6.06 MB/s) - ‘keras2_conv1d_record_5_model_PQzyq_modelWeights.h5’ saved [153864/153864]\n",
      "\n",
      "--2020-07-30 17:46:47--  https://raw.githubusercontent.com/AvantiShri/model_storage/9aadb769735c60eb90f7d3d896632ac749a1bdd2/deeplift/genomics/test.txt.gz\n",
      "Resolving raw.githubusercontent.com (raw.githubusercontent.com)... 151.101.184.133\n",
      "Connecting to raw.githubusercontent.com (raw.githubusercontent.com)|151.101.184.133|:443... connected.\n",
      "HTTP request sent, awaiting response... 200 OK\n",
      "Length: 2287 (2.2K) [application/octet-stream]\n",
      "Saving to: ‘test.txt.gz’\n",
      "\n",
      "100%[======================================>] 2,287       --.-K/s   in 0s      \n",
      "\n",
      "2020-07-30 17:46:47 (11.1 MB/s) - ‘test.txt.gz’ saved [2287/2287]\n",
      "\n"
     ]
    }
   ],
   "source": [
    "!./grab_model_and_data.sh"
   ]
  },
  {
   "cell_type": "markdown",
   "metadata": {},
   "source": [
    "### Read in and one-hot encode the data\n",
    "\n",
    "The simdna package is needed for reading the data; install it if it doesn't exist"
   ]
  },
  {
   "cell_type": "code",
   "execution_count": 2,
   "metadata": {},
   "outputs": [
    {
     "ename": "SyntaxError",
     "evalue": "invalid syntax (<ipython-input-2-0d91594b29b9>, line 3)",
     "output_type": "error",
     "traceback": [
      "\u001b[0;36m  File \u001b[0;32m\"<ipython-input-2-0d91594b29b9>\"\u001b[0;36m, line \u001b[0;32m3\u001b[0m\n\u001b[0;31m    except ImportError, e:\u001b[0m\n\u001b[0m                      ^\u001b[0m\n\u001b[0;31mSyntaxError\u001b[0m\u001b[0;31m:\u001b[0m invalid syntax\n"
     ]
    }
   ],
   "source": [
    "#\n",
    "try:\n",
    "    import simdna\n",
    "except :\n",
    "    print(\"installing simdna package\")\n",
    "    !pip install -e \"git://github.com/kundajelab/simdna.git@0.4.0#egg=simdna\"\n",
    "    print(\"\\n******************************************************************************\")\n",
    "    print(\"RESTART THE JUPYTER KERNEL TO PICK UP ON THE INSTALLATION!!!\")\n",
    "    print(\"******************************************************************************\")"
   ]
  },
  {
   "cell_type": "markdown",
   "metadata": {},
   "source": [
    "Read in data"
   ]
  },
  {
   "cell_type": "code",
   "execution_count": null,
   "metadata": {},
   "outputs": [],
   "source": [
    "import simdna.synthetic as synthetic\n",
    "import imp\n",
    "\n",
    "imp.reload(synthetic)\n",
    "imp.reload(synthetic.core)\n",
    "import gzip\n",
    "data_filename = \"sequences.simdata\""
   ]
  },
  {
   "cell_type": "code",
   "execution_count": 10,
   "metadata": {},
   "outputs": [],
   "source": [
    "#read in the data in the testing set\n",
    "test_ids_fh = gzip.open(\"test.txt.gz\",\"rb\")\n",
    "ids_to_load = [x.decode().rstrip(\"\\n\") for x in test_ids_fh]"
   ]
  },
  {
   "cell_type": "code",
   "execution_count": 16,
   "metadata": {},
   "outputs": [],
   "source": [
    "data = synthetic.read_simdata_file(data_filename, ids_to_load=ids_to_load)"
   ]
  },
  {
   "cell_type": "markdown",
   "metadata": {},
   "source": [
    "One-hot encode the data"
   ]
  },
  {
   "cell_type": "code",
   "execution_count": 22,
   "metadata": {},
   "outputs": [],
   "source": [
    "import numpy as np\n",
    "\n",
    "#this is set up for 1d convolutions where examples\n",
    "#have dimensions (len, num_channels)\n",
    "#the channel axis is the axis for one-hot encoding.\n",
    "def one_hot_encode_along_channel_axis(sequence):\n",
    "    to_return = np.zeros((len(sequence),4), dtype=np.int8)\n",
    "    seq_to_one_hot_fill_in_array(zeros_array=to_return,\n",
    "                                 sequence=sequence, one_hot_axis=1)\n",
    "    return to_return\n",
    "\n",
    "def seq_to_one_hot_fill_in_array(zeros_array, sequence, one_hot_axis):\n",
    "    assert one_hot_axis==0 or one_hot_axis==1\n",
    "    if (one_hot_axis==0):\n",
    "        assert zeros_array.shape[1] == len(sequence)\n",
    "    elif (one_hot_axis==1): \n",
    "        assert zeros_array.shape[0] == len(sequence)\n",
    "    #will mutate zeros_array\n",
    "    for (i,char) in enumerate(sequence):\n",
    "        if (char==\"A\" or char==\"a\"):\n",
    "            char_idx = 0\n",
    "        elif (char==\"C\" or char==\"c\"):\n",
    "            char_idx = 1\n",
    "        elif (char==\"G\" or char==\"g\"):\n",
    "            char_idx = 2\n",
    "        elif (char==\"T\" or char==\"t\"):\n",
    "            char_idx = 3\n",
    "        elif (char==\"N\" or char==\"n\"):\n",
    "            continue #leave that pos as all 0's\n",
    "        else:\n",
    "            raise RuntimeError(\"Unsupported character: \"+str(char))\n",
    "        if (one_hot_axis==0):\n",
    "            zeros_array[char_idx,i] = 1\n",
    "        elif (one_hot_axis==1):\n",
    "            zeros_array[i,char_idx] = 1\n",
    "            \n",
    "onehot_data = np.array([one_hot_encode_along_channel_axis(seq) for seq in data.sequences])"
   ]
  },
  {
   "cell_type": "code",
   "execution_count": 73,
   "metadata": {},
   "outputs": [
    {
     "data": {
      "text/plain": [
       "(800, 200, 4)"
      ]
     },
     "execution_count": 73,
     "metadata": {},
     "output_type": "execute_result"
    }
   ],
   "source": [
    "onehot_data.shape"
   ]
  },
  {
   "cell_type": "markdown",
   "metadata": {},
   "source": [
    "### Load the keras model"
   ]
  },
  {
   "cell_type": "code",
   "execution_count": 24,
   "metadata": {},
   "outputs": [
    {
     "name": "stderr",
     "output_type": "stream",
     "text": [
      "Using TensorFlow backend.\n"
     ]
    }
   ],
   "source": [
    "import deeplift\n",
    "from keras.models import model_from_json\n",
    "\n",
    "#load the keras model\n",
    "keras_model_weights = \"keras2_conv1d_record_5_model_PQzyq_modelWeights.h5\"\n",
    "keras_model_json = \"keras2_conv1d_record_5_model_PQzyq_modelJson.json\"\n",
    "\n",
    "keras_model = model_from_json(open(keras_model_json).read())\n",
    "keras_model.load_weights(keras_model_weights)"
   ]
  },
  {
   "cell_type": "code",
   "execution_count": 67,
   "metadata": {
    "scrolled": true
   },
   "outputs": [
    {
     "name": "stderr",
     "output_type": "stream",
     "text": [
      "/users/PCCH0011/cch0017/anaconda3/envs/gpu/lib/python3.6/site-packages/ipykernel_launcher.py:5: UserWarning: matplotlib.pyplot as already been imported, this call will have no effect.\n",
      "  \"\"\"\n"
     ]
    },
    {
     "data": {
      "image/svg+xml": [
       "<svg height=\"958pt\" viewBox=\"0.00 0.00 512.00 958.00\" width=\"512pt\" xmlns=\"http://www.w3.org/2000/svg\" xmlns:xlink=\"http://www.w3.org/1999/xlink\">\n",
       "<g class=\"graph\" id=\"graph0\" transform=\"scale(1 1) rotate(0) translate(4 954)\">\n",
       "<title>G</title>\n",
       "<polygon fill=\"#ffffff\" points=\"-4,4 -4,-954 508,-954 508,4 -4,4\" stroke=\"transparent\"/>\n",
       "<!-- 47425087427808 -->\n",
       "<g class=\"node\" id=\"node1\">\n",
       "<title>47425087427808</title>\n",
       "<polygon fill=\"none\" points=\"78.5,-830.5 78.5,-876.5 425.5,-876.5 425.5,-830.5 78.5,-830.5\" stroke=\"#000000\"/>\n",
       "<text fill=\"#000000\" font-family=\"Times,serif\" font-size=\"14.00\" text-anchor=\"middle\" x=\"154\" y=\"-849.8\">conv1d_1: Conv1D</text>\n",
       "<polyline fill=\"none\" points=\"229.5,-830.5 229.5,-876.5 \" stroke=\"#000000\"/>\n",
       "<text fill=\"#000000\" font-family=\"Times,serif\" font-size=\"14.00\" text-anchor=\"middle\" x=\"263.5\" y=\"-861.3\">input:</text>\n",
       "<polyline fill=\"none\" points=\"229.5,-853.5 297.5,-853.5 \" stroke=\"#000000\"/>\n",
       "<text fill=\"#000000\" font-family=\"Times,serif\" font-size=\"14.00\" text-anchor=\"middle\" x=\"263.5\" y=\"-838.3\">output:</text>\n",
       "<polyline fill=\"none\" points=\"297.5,-830.5 297.5,-876.5 \" stroke=\"#000000\"/>\n",
       "<text fill=\"#000000\" font-family=\"Times,serif\" font-size=\"14.00\" text-anchor=\"middle\" x=\"361.5\" y=\"-861.3\">(None, 200, 4)</text>\n",
       "<polyline fill=\"none\" points=\"297.5,-853.5 425.5,-853.5 \" stroke=\"#000000\"/>\n",
       "<text fill=\"#000000\" font-family=\"Times,serif\" font-size=\"14.00\" text-anchor=\"middle\" x=\"361.5\" y=\"-838.3\">(None, 190, 50)</text>\n",
       "</g>\n",
       "<!-- 47425087429152 -->\n",
       "<g class=\"node\" id=\"node2\">\n",
       "<title>47425087429152</title>\n",
       "<polygon fill=\"none\" points=\"60.5,-747.5 60.5,-793.5 443.5,-793.5 443.5,-747.5 60.5,-747.5\" stroke=\"#000000\"/>\n",
       "<text fill=\"#000000\" font-family=\"Times,serif\" font-size=\"14.00\" text-anchor=\"middle\" x=\"154\" y=\"-766.8\">activation_1: Activation</text>\n",
       "<polyline fill=\"none\" points=\"247.5,-747.5 247.5,-793.5 \" stroke=\"#000000\"/>\n",
       "<text fill=\"#000000\" font-family=\"Times,serif\" font-size=\"14.00\" text-anchor=\"middle\" x=\"281.5\" y=\"-778.3\">input:</text>\n",
       "<polyline fill=\"none\" points=\"247.5,-770.5 315.5,-770.5 \" stroke=\"#000000\"/>\n",
       "<text fill=\"#000000\" font-family=\"Times,serif\" font-size=\"14.00\" text-anchor=\"middle\" x=\"281.5\" y=\"-755.3\">output:</text>\n",
       "<polyline fill=\"none\" points=\"315.5,-747.5 315.5,-793.5 \" stroke=\"#000000\"/>\n",
       "<text fill=\"#000000\" font-family=\"Times,serif\" font-size=\"14.00\" text-anchor=\"middle\" x=\"379.5\" y=\"-778.3\">(None, 190, 50)</text>\n",
       "<polyline fill=\"none\" points=\"315.5,-770.5 443.5,-770.5 \" stroke=\"#000000\"/>\n",
       "<text fill=\"#000000\" font-family=\"Times,serif\" font-size=\"14.00\" text-anchor=\"middle\" x=\"379.5\" y=\"-755.3\">(None, 190, 50)</text>\n",
       "</g>\n",
       "<!-- 47425087427808&#45;&gt;47425087429152 -->\n",
       "<g class=\"edge\" id=\"edge2\">\n",
       "<title>47425087427808-&gt;47425087429152</title>\n",
       "<path d=\"M252,-830.3799C252,-822.1745 252,-812.7679 252,-803.8786\" fill=\"none\" stroke=\"#000000\"/>\n",
       "<polygon fill=\"#000000\" points=\"255.5001,-803.784 252,-793.784 248.5001,-803.784 255.5001,-803.784\" stroke=\"#000000\"/>\n",
       "</g>\n",
       "<!-- 47425087428536 -->\n",
       "<g class=\"node\" id=\"node3\">\n",
       "<title>47425087428536</title>\n",
       "<polygon fill=\"none\" points=\"78.5,-664.5 78.5,-710.5 425.5,-710.5 425.5,-664.5 78.5,-664.5\" stroke=\"#000000\"/>\n",
       "<text fill=\"#000000\" font-family=\"Times,serif\" font-size=\"14.00\" text-anchor=\"middle\" x=\"154\" y=\"-683.8\">conv1d_2: Conv1D</text>\n",
       "<polyline fill=\"none\" points=\"229.5,-664.5 229.5,-710.5 \" stroke=\"#000000\"/>\n",
       "<text fill=\"#000000\" font-family=\"Times,serif\" font-size=\"14.00\" text-anchor=\"middle\" x=\"263.5\" y=\"-695.3\">input:</text>\n",
       "<polyline fill=\"none\" points=\"229.5,-687.5 297.5,-687.5 \" stroke=\"#000000\"/>\n",
       "<text fill=\"#000000\" font-family=\"Times,serif\" font-size=\"14.00\" text-anchor=\"middle\" x=\"263.5\" y=\"-672.3\">output:</text>\n",
       "<polyline fill=\"none\" points=\"297.5,-664.5 297.5,-710.5 \" stroke=\"#000000\"/>\n",
       "<text fill=\"#000000\" font-family=\"Times,serif\" font-size=\"14.00\" text-anchor=\"middle\" x=\"361.5\" y=\"-695.3\">(None, 190, 50)</text>\n",
       "<polyline fill=\"none\" points=\"297.5,-687.5 425.5,-687.5 \" stroke=\"#000000\"/>\n",
       "<text fill=\"#000000\" font-family=\"Times,serif\" font-size=\"14.00\" text-anchor=\"middle\" x=\"361.5\" y=\"-672.3\">(None, 180, 50)</text>\n",
       "</g>\n",
       "<!-- 47425087429152&#45;&gt;47425087428536 -->\n",
       "<g class=\"edge\" id=\"edge3\">\n",
       "<title>47425087429152-&gt;47425087428536</title>\n",
       "<path d=\"M252,-747.3799C252,-739.1745 252,-729.7679 252,-720.8786\" fill=\"none\" stroke=\"#000000\"/>\n",
       "<polygon fill=\"#000000\" points=\"255.5001,-720.784 252,-710.784 248.5001,-720.784 255.5001,-720.784\" stroke=\"#000000\"/>\n",
       "</g>\n",
       "<!-- 47425087587944 -->\n",
       "<g class=\"node\" id=\"node4\">\n",
       "<title>47425087587944</title>\n",
       "<polygon fill=\"none\" points=\"60.5,-581.5 60.5,-627.5 443.5,-627.5 443.5,-581.5 60.5,-581.5\" stroke=\"#000000\"/>\n",
       "<text fill=\"#000000\" font-family=\"Times,serif\" font-size=\"14.00\" text-anchor=\"middle\" x=\"154\" y=\"-600.8\">activation_2: Activation</text>\n",
       "<polyline fill=\"none\" points=\"247.5,-581.5 247.5,-627.5 \" stroke=\"#000000\"/>\n",
       "<text fill=\"#000000\" font-family=\"Times,serif\" font-size=\"14.00\" text-anchor=\"middle\" x=\"281.5\" y=\"-612.3\">input:</text>\n",
       "<polyline fill=\"none\" points=\"247.5,-604.5 315.5,-604.5 \" stroke=\"#000000\"/>\n",
       "<text fill=\"#000000\" font-family=\"Times,serif\" font-size=\"14.00\" text-anchor=\"middle\" x=\"281.5\" y=\"-589.3\">output:</text>\n",
       "<polyline fill=\"none\" points=\"315.5,-581.5 315.5,-627.5 \" stroke=\"#000000\"/>\n",
       "<text fill=\"#000000\" font-family=\"Times,serif\" font-size=\"14.00\" text-anchor=\"middle\" x=\"379.5\" y=\"-612.3\">(None, 180, 50)</text>\n",
       "<polyline fill=\"none\" points=\"315.5,-604.5 443.5,-604.5 \" stroke=\"#000000\"/>\n",
       "<text fill=\"#000000\" font-family=\"Times,serif\" font-size=\"14.00\" text-anchor=\"middle\" x=\"379.5\" y=\"-589.3\">(None, 180, 50)</text>\n",
       "</g>\n",
       "<!-- 47425087428536&#45;&gt;47425087587944 -->\n",
       "<g class=\"edge\" id=\"edge4\">\n",
       "<title>47425087428536-&gt;47425087587944</title>\n",
       "<path d=\"M252,-664.3799C252,-656.1745 252,-646.7679 252,-637.8786\" fill=\"none\" stroke=\"#000000\"/>\n",
       "<polygon fill=\"#000000\" points=\"255.5001,-637.784 252,-627.784 248.5001,-637.784 255.5001,-637.784\" stroke=\"#000000\"/>\n",
       "</g>\n",
       "<!-- 47422615248064 -->\n",
       "<g class=\"node\" id=\"node5\">\n",
       "<title>47422615248064</title>\n",
       "<polygon fill=\"none\" points=\"0,-498.5 0,-544.5 504,-544.5 504,-498.5 0,-498.5\" stroke=\"#000000\"/>\n",
       "<text fill=\"#000000\" font-family=\"Times,serif\" font-size=\"14.00\" text-anchor=\"middle\" x=\"154\" y=\"-517.8\">average_pooling1d_1: AveragePooling1D</text>\n",
       "<polyline fill=\"none\" points=\"308,-498.5 308,-544.5 \" stroke=\"#000000\"/>\n",
       "<text fill=\"#000000\" font-family=\"Times,serif\" font-size=\"14.00\" text-anchor=\"middle\" x=\"342\" y=\"-529.3\">input:</text>\n",
       "<polyline fill=\"none\" points=\"308,-521.5 376,-521.5 \" stroke=\"#000000\"/>\n",
       "<text fill=\"#000000\" font-family=\"Times,serif\" font-size=\"14.00\" text-anchor=\"middle\" x=\"342\" y=\"-506.3\">output:</text>\n",
       "<polyline fill=\"none\" points=\"376,-498.5 376,-544.5 \" stroke=\"#000000\"/>\n",
       "<text fill=\"#000000\" font-family=\"Times,serif\" font-size=\"14.00\" text-anchor=\"middle\" x=\"440\" y=\"-529.3\">(None, 180, 50)</text>\n",
       "<polyline fill=\"none\" points=\"376,-521.5 504,-521.5 \" stroke=\"#000000\"/>\n",
       "<text fill=\"#000000\" font-family=\"Times,serif\" font-size=\"14.00\" text-anchor=\"middle\" x=\"440\" y=\"-506.3\">(None, 1, 50)</text>\n",
       "</g>\n",
       "<!-- 47425087587944&#45;&gt;47422615248064 -->\n",
       "<g class=\"edge\" id=\"edge5\">\n",
       "<title>47425087587944-&gt;47422615248064</title>\n",
       "<path d=\"M252,-581.3799C252,-573.1745 252,-563.7679 252,-554.8786\" fill=\"none\" stroke=\"#000000\"/>\n",
       "<polygon fill=\"#000000\" points=\"255.5001,-554.784 252,-544.784 248.5001,-554.784 255.5001,-554.784\" stroke=\"#000000\"/>\n",
       "</g>\n",
       "<!-- 47425089842536 -->\n",
       "<g class=\"node\" id=\"node6\">\n",
       "<title>47425089842536</title>\n",
       "<polygon fill=\"none\" points=\"92.5,-415.5 92.5,-461.5 411.5,-461.5 411.5,-415.5 92.5,-415.5\" stroke=\"#000000\"/>\n",
       "<text fill=\"#000000\" font-family=\"Times,serif\" font-size=\"14.00\" text-anchor=\"middle\" x=\"163\" y=\"-434.8\">flatten_1: Flatten</text>\n",
       "<polyline fill=\"none\" points=\"233.5,-415.5 233.5,-461.5 \" stroke=\"#000000\"/>\n",
       "<text fill=\"#000000\" font-family=\"Times,serif\" font-size=\"14.00\" text-anchor=\"middle\" x=\"267.5\" y=\"-446.3\">input:</text>\n",
       "<polyline fill=\"none\" points=\"233.5,-438.5 301.5,-438.5 \" stroke=\"#000000\"/>\n",
       "<text fill=\"#000000\" font-family=\"Times,serif\" font-size=\"14.00\" text-anchor=\"middle\" x=\"267.5\" y=\"-423.3\">output:</text>\n",
       "<polyline fill=\"none\" points=\"301.5,-415.5 301.5,-461.5 \" stroke=\"#000000\"/>\n",
       "<text fill=\"#000000\" font-family=\"Times,serif\" font-size=\"14.00\" text-anchor=\"middle\" x=\"356.5\" y=\"-446.3\">(None, 1, 50)</text>\n",
       "<polyline fill=\"none\" points=\"301.5,-438.5 411.5,-438.5 \" stroke=\"#000000\"/>\n",
       "<text fill=\"#000000\" font-family=\"Times,serif\" font-size=\"14.00\" text-anchor=\"middle\" x=\"356.5\" y=\"-423.3\">(None, 50)</text>\n",
       "</g>\n",
       "<!-- 47422615248064&#45;&gt;47425089842536 -->\n",
       "<g class=\"edge\" id=\"edge6\">\n",
       "<title>47422615248064-&gt;47425089842536</title>\n",
       "<path d=\"M252,-498.3799C252,-490.1745 252,-480.7679 252,-471.8786\" fill=\"none\" stroke=\"#000000\"/>\n",
       "<polygon fill=\"#000000\" points=\"255.5001,-471.784 252,-461.784 248.5001,-471.784 255.5001,-471.784\" stroke=\"#000000\"/>\n",
       "</g>\n",
       "<!-- 47425090024672 -->\n",
       "<g class=\"node\" id=\"node7\">\n",
       "<title>47425090024672</title>\n",
       "<polygon fill=\"none\" points=\"108,-332.5 108,-378.5 396,-378.5 396,-332.5 108,-332.5\" stroke=\"#000000\"/>\n",
       "<text fill=\"#000000\" font-family=\"Times,serif\" font-size=\"14.00\" text-anchor=\"middle\" x=\"172\" y=\"-351.8\">dense_1: Dense</text>\n",
       "<polyline fill=\"none\" points=\"236,-332.5 236,-378.5 \" stroke=\"#000000\"/>\n",
       "<text fill=\"#000000\" font-family=\"Times,serif\" font-size=\"14.00\" text-anchor=\"middle\" x=\"270\" y=\"-363.3\">input:</text>\n",
       "<polyline fill=\"none\" points=\"236,-355.5 304,-355.5 \" stroke=\"#000000\"/>\n",
       "<text fill=\"#000000\" font-family=\"Times,serif\" font-size=\"14.00\" text-anchor=\"middle\" x=\"270\" y=\"-340.3\">output:</text>\n",
       "<polyline fill=\"none\" points=\"304,-332.5 304,-378.5 \" stroke=\"#000000\"/>\n",
       "<text fill=\"#000000\" font-family=\"Times,serif\" font-size=\"14.00\" text-anchor=\"middle\" x=\"350\" y=\"-363.3\">(None, 50)</text>\n",
       "<polyline fill=\"none\" points=\"304,-355.5 396,-355.5 \" stroke=\"#000000\"/>\n",
       "<text fill=\"#000000\" font-family=\"Times,serif\" font-size=\"14.00\" text-anchor=\"middle\" x=\"350\" y=\"-340.3\">(None, 50)</text>\n",
       "</g>\n",
       "<!-- 47425089842536&#45;&gt;47425090024672 -->\n",
       "<g class=\"edge\" id=\"edge7\">\n",
       "<title>47425089842536-&gt;47425090024672</title>\n",
       "<path d=\"M252,-415.3799C252,-407.1745 252,-397.7679 252,-388.8786\" fill=\"none\" stroke=\"#000000\"/>\n",
       "<polygon fill=\"#000000\" points=\"255.5001,-388.784 252,-378.784 248.5001,-388.784 255.5001,-388.784\" stroke=\"#000000\"/>\n",
       "</g>\n",
       "<!-- 47425090165896 -->\n",
       "<g class=\"node\" id=\"node8\">\n",
       "<title>47425090165896</title>\n",
       "<polygon fill=\"none\" points=\"78.5,-249.5 78.5,-295.5 425.5,-295.5 425.5,-249.5 78.5,-249.5\" stroke=\"#000000\"/>\n",
       "<text fill=\"#000000\" font-family=\"Times,serif\" font-size=\"14.00\" text-anchor=\"middle\" x=\"172\" y=\"-268.8\">activation_3: Activation</text>\n",
       "<polyline fill=\"none\" points=\"265.5,-249.5 265.5,-295.5 \" stroke=\"#000000\"/>\n",
       "<text fill=\"#000000\" font-family=\"Times,serif\" font-size=\"14.00\" text-anchor=\"middle\" x=\"299.5\" y=\"-280.3\">input:</text>\n",
       "<polyline fill=\"none\" points=\"265.5,-272.5 333.5,-272.5 \" stroke=\"#000000\"/>\n",
       "<text fill=\"#000000\" font-family=\"Times,serif\" font-size=\"14.00\" text-anchor=\"middle\" x=\"299.5\" y=\"-257.3\">output:</text>\n",
       "<polyline fill=\"none\" points=\"333.5,-249.5 333.5,-295.5 \" stroke=\"#000000\"/>\n",
       "<text fill=\"#000000\" font-family=\"Times,serif\" font-size=\"14.00\" text-anchor=\"middle\" x=\"379.5\" y=\"-280.3\">(None, 50)</text>\n",
       "<polyline fill=\"none\" points=\"333.5,-272.5 425.5,-272.5 \" stroke=\"#000000\"/>\n",
       "<text fill=\"#000000\" font-family=\"Times,serif\" font-size=\"14.00\" text-anchor=\"middle\" x=\"379.5\" y=\"-257.3\">(None, 50)</text>\n",
       "</g>\n",
       "<!-- 47425090024672&#45;&gt;47425090165896 -->\n",
       "<g class=\"edge\" id=\"edge8\">\n",
       "<title>47425090024672-&gt;47425090165896</title>\n",
       "<path d=\"M252,-332.3799C252,-324.1745 252,-314.7679 252,-305.8786\" fill=\"none\" stroke=\"#000000\"/>\n",
       "<polygon fill=\"#000000\" points=\"255.5001,-305.784 252,-295.784 248.5001,-305.784 255.5001,-305.784\" stroke=\"#000000\"/>\n",
       "</g>\n",
       "<!-- 47425090165168 -->\n",
       "<g class=\"node\" id=\"node9\">\n",
       "<title>47425090165168</title>\n",
       "<polygon fill=\"none\" points=\"93.5,-166.5 93.5,-212.5 410.5,-212.5 410.5,-166.5 93.5,-166.5\" stroke=\"#000000\"/>\n",
       "<text fill=\"#000000\" font-family=\"Times,serif\" font-size=\"14.00\" text-anchor=\"middle\" x=\"172\" y=\"-185.8\">dropout_1: Dropout</text>\n",
       "<polyline fill=\"none\" points=\"250.5,-166.5 250.5,-212.5 \" stroke=\"#000000\"/>\n",
       "<text fill=\"#000000\" font-family=\"Times,serif\" font-size=\"14.00\" text-anchor=\"middle\" x=\"284.5\" y=\"-197.3\">input:</text>\n",
       "<polyline fill=\"none\" points=\"250.5,-189.5 318.5,-189.5 \" stroke=\"#000000\"/>\n",
       "<text fill=\"#000000\" font-family=\"Times,serif\" font-size=\"14.00\" text-anchor=\"middle\" x=\"284.5\" y=\"-174.3\">output:</text>\n",
       "<polyline fill=\"none\" points=\"318.5,-166.5 318.5,-212.5 \" stroke=\"#000000\"/>\n",
       "<text fill=\"#000000\" font-family=\"Times,serif\" font-size=\"14.00\" text-anchor=\"middle\" x=\"364.5\" y=\"-197.3\">(None, 50)</text>\n",
       "<polyline fill=\"none\" points=\"318.5,-189.5 410.5,-189.5 \" stroke=\"#000000\"/>\n",
       "<text fill=\"#000000\" font-family=\"Times,serif\" font-size=\"14.00\" text-anchor=\"middle\" x=\"364.5\" y=\"-174.3\">(None, 50)</text>\n",
       "</g>\n",
       "<!-- 47425090165896&#45;&gt;47425090165168 -->\n",
       "<g class=\"edge\" id=\"edge9\">\n",
       "<title>47425090165896-&gt;47425090165168</title>\n",
       "<path d=\"M252,-249.3799C252,-241.1745 252,-231.7679 252,-222.8786\" fill=\"none\" stroke=\"#000000\"/>\n",
       "<polygon fill=\"#000000\" points=\"255.5001,-222.784 252,-212.784 248.5001,-222.784 255.5001,-222.784\" stroke=\"#000000\"/>\n",
       "</g>\n",
       "<!-- 47425090165112 -->\n",
       "<g class=\"node\" id=\"node10\">\n",
       "<title>47425090165112</title>\n",
       "<polygon fill=\"none\" points=\"108,-83.5 108,-129.5 396,-129.5 396,-83.5 108,-83.5\" stroke=\"#000000\"/>\n",
       "<text fill=\"#000000\" font-family=\"Times,serif\" font-size=\"14.00\" text-anchor=\"middle\" x=\"172\" y=\"-102.8\">dense_2: Dense</text>\n",
       "<polyline fill=\"none\" points=\"236,-83.5 236,-129.5 \" stroke=\"#000000\"/>\n",
       "<text fill=\"#000000\" font-family=\"Times,serif\" font-size=\"14.00\" text-anchor=\"middle\" x=\"270\" y=\"-114.3\">input:</text>\n",
       "<polyline fill=\"none\" points=\"236,-106.5 304,-106.5 \" stroke=\"#000000\"/>\n",
       "<text fill=\"#000000\" font-family=\"Times,serif\" font-size=\"14.00\" text-anchor=\"middle\" x=\"270\" y=\"-91.3\">output:</text>\n",
       "<polyline fill=\"none\" points=\"304,-83.5 304,-129.5 \" stroke=\"#000000\"/>\n",
       "<text fill=\"#000000\" font-family=\"Times,serif\" font-size=\"14.00\" text-anchor=\"middle\" x=\"350\" y=\"-114.3\">(None, 50)</text>\n",
       "<polyline fill=\"none\" points=\"304,-106.5 396,-106.5 \" stroke=\"#000000\"/>\n",
       "<text fill=\"#000000\" font-family=\"Times,serif\" font-size=\"14.00\" text-anchor=\"middle\" x=\"350\" y=\"-91.3\">(None, 3)</text>\n",
       "</g>\n",
       "<!-- 47425090165168&#45;&gt;47425090165112 -->\n",
       "<g class=\"edge\" id=\"edge10\">\n",
       "<title>47425090165168-&gt;47425090165112</title>\n",
       "<path d=\"M252,-166.3799C252,-158.1745 252,-148.7679 252,-139.8786\" fill=\"none\" stroke=\"#000000\"/>\n",
       "<polygon fill=\"#000000\" points=\"255.5001,-139.784 252,-129.784 248.5001,-139.784 255.5001,-139.784\" stroke=\"#000000\"/>\n",
       "</g>\n",
       "<!-- 47425087587440 -->\n",
       "<g class=\"node\" id=\"node11\">\n",
       "<title>47425087587440</title>\n",
       "<polygon fill=\"none\" points=\"83,-.5 83,-46.5 421,-46.5 421,-.5 83,-.5\" stroke=\"#000000\"/>\n",
       "<text fill=\"#000000\" font-family=\"Times,serif\" font-size=\"14.00\" text-anchor=\"middle\" x=\"176.5\" y=\"-19.8\">activation_4: Activation</text>\n",
       "<polyline fill=\"none\" points=\"270,-.5 270,-46.5 \" stroke=\"#000000\"/>\n",
       "<text fill=\"#000000\" font-family=\"Times,serif\" font-size=\"14.00\" text-anchor=\"middle\" x=\"304\" y=\"-31.3\">input:</text>\n",
       "<polyline fill=\"none\" points=\"270,-23.5 338,-23.5 \" stroke=\"#000000\"/>\n",
       "<text fill=\"#000000\" font-family=\"Times,serif\" font-size=\"14.00\" text-anchor=\"middle\" x=\"304\" y=\"-8.3\">output:</text>\n",
       "<polyline fill=\"none\" points=\"338,-.5 338,-46.5 \" stroke=\"#000000\"/>\n",
       "<text fill=\"#000000\" font-family=\"Times,serif\" font-size=\"14.00\" text-anchor=\"middle\" x=\"379.5\" y=\"-31.3\">(None, 3)</text>\n",
       "<polyline fill=\"none\" points=\"338,-23.5 421,-23.5 \" stroke=\"#000000\"/>\n",
       "<text fill=\"#000000\" font-family=\"Times,serif\" font-size=\"14.00\" text-anchor=\"middle\" x=\"379.5\" y=\"-8.3\">(None, 3)</text>\n",
       "</g>\n",
       "<!-- 47425090165112&#45;&gt;47425087587440 -->\n",
       "<g class=\"edge\" id=\"edge11\">\n",
       "<title>47425090165112-&gt;47425087587440</title>\n",
       "<path d=\"M252,-83.3799C252,-75.1745 252,-65.7679 252,-56.8786\" fill=\"none\" stroke=\"#000000\"/>\n",
       "<polygon fill=\"#000000\" points=\"255.5001,-56.784 252,-46.784 248.5001,-56.784 255.5001,-56.784\" stroke=\"#000000\"/>\n",
       "</g>\n",
       "<!-- 47425087427864 -->\n",
       "<g class=\"node\" id=\"node12\">\n",
       "<title>47425087427864</title>\n",
       "<polygon fill=\"none\" points=\"180.5,-913.5 180.5,-949.5 323.5,-949.5 323.5,-913.5 180.5,-913.5\" stroke=\"#000000\"/>\n",
       "<text fill=\"#000000\" font-family=\"Times,serif\" font-size=\"14.00\" text-anchor=\"middle\" x=\"252\" y=\"-927.8\">47425087427864</text>\n",
       "</g>\n",
       "<!-- 47425087427864&#45;&gt;47425087427808 -->\n",
       "<g class=\"edge\" id=\"edge1\">\n",
       "<title>47425087427864-&gt;47425087427808</title>\n",
       "<path d=\"M252,-913.4092C252,-905.4308 252,-895.795 252,-886.606\" fill=\"none\" stroke=\"#000000\"/>\n",
       "<polygon fill=\"#000000\" points=\"255.5001,-886.5333 252,-876.5333 248.5001,-886.5334 255.5001,-886.5333\" stroke=\"#000000\"/>\n",
       "</g>\n",
       "</g>\n",
       "</svg>"
      ],
      "text/plain": [
       "<IPython.core.display.SVG object>"
      ]
     },
     "metadata": {},
     "output_type": "display_data"
    }
   ],
   "source": [
    "from IPython.display import SVG, display\n",
    "from keras.utils.vis_utils import plot_model\n",
    "from keras.utils.vis_utils import model_to_dot\n",
    "import matplotlib\n",
    "matplotlib.use('agg')\n",
    "import matplotlib.pylab as plt\n",
    "class keras_visual():\n",
    "    @staticmethod\n",
    "    def plot_n_display(keras_model, output_file_path):\n",
    "        plot_model(model=keras_model,\n",
    "                   to_file=os.path.join(output_file_path, 'model.pdf'),\n",
    "                   show_shapes=True)\n",
    "        # visualize in notebook view\n",
    "        display(SVG(model_to_dot(keras_model, show_shapes=True).create(prog='dot', format='svg')))\n",
    "    @staticmethod\n",
    "    def plot(keras_model, output_file_path, output_file_name):\n",
    "        plot_model(model=keras_model,\n",
    "                   to_file=os.path.join(output_file_path, output_file_name),\n",
    "                   show_shapes=True)\n",
    "    @staticmethod\n",
    "    def display(keras_model):\n",
    "        display(SVG(model_to_dot(keras_model, show_shapes=True).create(prog='dot', format='svg')))\n",
    "\n",
    "\n",
    "keras_visual.plot_n_display(keras_model=keras_model,output_file_path='./')\n"
   ]
  },
  {
   "cell_type": "code",
   "execution_count": 68,
   "metadata": {
    "scrolled": true
   },
   "outputs": [
    {
     "name": "stdout",
     "output_type": "stream",
     "text": [
      "_________________________________________________________________\n",
      "Layer (type)                 Output Shape              Param #   \n",
      "=================================================================\n",
      "conv1d_1 (Conv1D)            (None, 190, 50)           2250      \n",
      "_________________________________________________________________\n",
      "activation_1 (Activation)    (None, 190, 50)           0         \n",
      "_________________________________________________________________\n",
      "conv1d_2 (Conv1D)            (None, 180, 50)           27550     \n",
      "_________________________________________________________________\n",
      "activation_2 (Activation)    (None, 180, 50)           0         \n",
      "_________________________________________________________________\n",
      "average_pooling1d_1 (Average (None, 1, 50)             0         \n",
      "_________________________________________________________________\n",
      "flatten_1 (Flatten)          (None, 50)                0         \n",
      "_________________________________________________________________\n",
      "dense_1 (Dense)              (None, 50)                2550      \n",
      "_________________________________________________________________\n",
      "activation_3 (Activation)    (None, 50)                0         \n",
      "_________________________________________________________________\n",
      "dropout_1 (Dropout)          (None, 50)                0         \n",
      "_________________________________________________________________\n",
      "dense_2 (Dense)              (None, 3)                 153       \n",
      "_________________________________________________________________\n",
      "activation_4 (Activation)    (None, 3)                 0         \n",
      "=================================================================\n",
      "Total params: 32,503\n",
      "Trainable params: 32,503\n",
      "Non-trainable params: 0\n",
      "_________________________________________________________________\n"
     ]
    }
   ],
   "source": [
    "keras_model.summary()"
   ]
  },
  {
   "cell_type": "markdown",
   "metadata": {},
   "source": [
    "## Prepare the deeplift models\n",
    "\n",
    "### Model conversion\n",
    "\n",
    "Convert the keras models to deeplift models capable of computing importance scores using DeepLIFT (with 3 different variants:\n",
    "##### a) rescale on the conv layers and revealcancel on the fully-connected layers (the genomics default), \n",
    "##### b) rescale on all layers, and revealcancel on all layers), \n",
    "##### c) gradients and guided backprop\n"
   ]
  },
  {
   "cell_type": "code",
   "execution_count": 26,
   "metadata": {},
   "outputs": [
    {
     "name": "stdout",
     "output_type": "stream",
     "text": [
      "nonlinear_mxts_mode is set to: DeepLIFT_GenomicsDefault\n",
      "For layer 1 the preceding linear layer is 0 of type Conv1D;\n",
      "In accordance with nonlinear_mxts_mode=DeepLIFT_GenomicsDefault we are setting the NonlinearMxtsMode to Rescale\n",
      "For layer 3 the preceding linear layer is 2 of type Conv1D;\n",
      "In accordance with nonlinear_mxts_mode=DeepLIFT_GenomicsDefault we are setting the NonlinearMxtsMode to Rescale\n",
      "For layer 7 the preceding linear layer is 6 of type Dense;\n",
      "In accordance with nonlinear_mxts_modeDeepLIFT_GenomicsDefault we are setting the NonlinearMxtsMode to RevealCancel\n",
      "Heads-up: I assume sigmoid is the output layer, not an intermediate one; if it's an intermediate layer then please bug me and I will implement the grad func\n",
      "For layer 10 the preceding linear layer is 9 of type Dense;\n",
      "In accordance with nonlinear_mxts_modeDeepLIFT_GenomicsDefault we are setting the NonlinearMxtsMode to RevealCancel\n",
      "nonlinear_mxts_mode is set to: Rescale\n",
      "Heads-up: I assume sigmoid is the output layer, not an intermediate one; if it's an intermediate layer then please bug me and I will implement the grad func\n",
      "nonlinear_mxts_mode is set to: RevealCancel\n",
      "Heads-up: I assume sigmoid is the output layer, not an intermediate one; if it's an intermediate layer then please bug me and I will implement the grad func\n",
      "nonlinear_mxts_mode is set to: Gradient\n",
      "Heads-up: I assume sigmoid is the output layer, not an intermediate one; if it's an intermediate layer then please bug me and I will implement the grad func\n",
      "nonlinear_mxts_mode is set to: GuidedBackprop\n",
      "Heads-up: I assume sigmoid is the output layer, not an intermediate one; if it's an intermediate layer then please bug me and I will implement the grad func\n"
     ]
    }
   ],
   "source": [
    "from deeplift.layers import NonlinearMxtsMode\n",
    "import deeplift.conversion.kerasapi_conversion as kc\n",
    "imp.reload(deeplift.layers)\n",
    "imp.reload(deeplift.conversion.kerasapi_conversion)\n",
    "from collections import OrderedDict\n",
    "\n",
    "method_to_model = OrderedDict()\n",
    "for method_name, nonlinear_mxts_mode in [\n",
    "    #The genomics default = rescale on conv layers, revealcancel on fully-connected\n",
    "    ('rescale_conv_revealcancel_fc', NonlinearMxtsMode.DeepLIFT_GenomicsDefault),\n",
    "    ('rescale_all_layers', NonlinearMxtsMode.Rescale),\n",
    "    ('revealcancel_all_layers', NonlinearMxtsMode.RevealCancel),\n",
    "    ('grad_times_inp', NonlinearMxtsMode.Gradient),\n",
    "    ('guided_backprop', NonlinearMxtsMode.GuidedBackprop)]:\n",
    "    method_to_model[method_name] = kc.convert_model_from_saved_files(\n",
    "        h5_file=keras_model_weights,\n",
    "        json_file=keras_model_json,\n",
    "        nonlinear_mxts_mode=nonlinear_mxts_mode)"
   ]
  },
  {
   "cell_type": "markdown",
   "metadata": {
    "collapsed": true
   },
   "source": [
    "### Sanity checks\n",
    "To ensure that the conversion happend correctly, ensure that the models give identical predictions\n",
    "\n",
    "If you are using a functional model, see this issue for how to adapt the code: \n",
    "https://github.com/kundajelab/deeplift/issues/54 \n",
    "#### Will need the above modification"
   ]
  },
  {
   "cell_type": "code",
   "execution_count": 27,
   "metadata": {},
   "outputs": [
    {
     "name": "stdout",
     "output_type": "stream",
     "text": [
      "maximum difference in predictions: 0.0\n"
     ]
    }
   ],
   "source": [
    "#make sure predictions are the same as the original model\n",
    "from deeplift.util import compile_func\n",
    "model_to_test = method_to_model['rescale_conv_revealcancel_fc']\n",
    "deeplift_prediction_func = compile_func([model_to_test.get_layers()[0].get_activation_vars()],\n",
    "                                         model_to_test.get_layers()[-1].get_activation_vars())\n",
    "original_model_predictions = keras_model.predict(onehot_data, batch_size=200)\n",
    "converted_model_predictions = deeplift.util.run_function_in_batches(\n",
    "                                input_data_list=[onehot_data],\n",
    "                                func=deeplift_prediction_func,\n",
    "                                batch_size=200,\n",
    "                                progress_update=None)\n",
    "print(\"maximum difference in predictions:\",np.max(np.array(converted_model_predictions)-np.array(original_model_predictions)))\n",
    "assert np.max(np.array(converted_model_predictions)-np.array(original_model_predictions)) < 10**-5\n",
    "predictions = converted_model_predictions"
   ]
  },
  {
   "cell_type": "markdown",
   "metadata": {},
   "source": [
    "## Compute importance scores\n",
    "\n",
    "### Compile various scoring functions\n",
    "Using the deeplift models, we obtain the functions capable of computing the importance scores."
   ]
  },
  {
   "cell_type": "code",
   "execution_count": 28,
   "metadata": {},
   "outputs": [
    {
     "name": "stdout",
     "output_type": "stream",
     "text": [
      "Compiling scoring functions\n",
      "Compiling scoring function for: rescale_conv_revealcancel_fc\n",
      "TARGET LAYER SET TO 9\n",
      "Compiling scoring function for: rescale_all_layers\n",
      "TARGET LAYER SET TO 9\n",
      "Compiling scoring function for: revealcancel_all_layers\n",
      "TARGET LAYER SET TO 9\n",
      "Compiling scoring function for: grad_times_inp\n",
      "TARGET LAYER SET TO 9\n",
      "Compiling scoring function for: guided_backprop\n",
      "TARGET LAYER SET TO 9\n",
      "TARGET LAYER SET TO 9\n",
      "Compiling integrated gradients scoring functions\n"
     ]
    }
   ],
   "source": [
    "print(\"Compiling scoring functions\")\n",
    "method_to_scoring_func = OrderedDict()\n",
    "for method,model in method_to_model.items():\n",
    "    print(\"Compiling scoring function for: \"+method)\n",
    "    method_to_scoring_func[method] = model.get_target_contribs_func(find_scores_layer_idx=0,\n",
    "                                                                    target_layer_idx=-2)\n",
    "    \n",
    "#To get a function that just gives the gradients, we use the multipliers of the Gradient model\n",
    "gradient_func = method_to_model['grad_times_inp'].get_target_multipliers_func(find_scores_layer_idx=0,\n",
    "                                                                              target_layer_idx=-2)\n",
    "print(\"Compiling integrated gradients scoring functions\")\n",
    "integrated_gradients10_func = deeplift.util.get_integrated_gradients_function(\n",
    "    gradient_computation_function = gradient_func,\n",
    "    num_intervals=10)\n",
    "method_to_scoring_func['integrated_gradients10'] = integrated_gradients10_func"
   ]
  },
  {
   "cell_type": "code",
   "execution_count": 74,
   "metadata": {},
   "outputs": [
    {
     "data": {
      "text/plain": [
       "array([[[0.3, 0.2, 0.2, 0.3]]])"
      ]
     },
     "execution_count": 74,
     "metadata": {},
     "output_type": "execute_result"
    }
   ],
   "source": [
    "np.array([background['A'],\n",
    "                               background['C'],\n",
    "                               background['G'],\n",
    "                               background['T']])[None,None,:]"
   ]
  },
  {
   "cell_type": "code",
   "execution_count": 76,
   "metadata": {},
   "outputs": [
    {
     "data": {
      "text/plain": [
       "<function deeplift.models.Model._get_func.<locals>.func(task_idx, input_data_list, batch_size, progress_update, input_references_list=None)>"
      ]
     },
     "execution_count": 76,
     "metadata": {},
     "output_type": "execute_result"
    }
   ],
   "source": [
    "method_to_scoring_func['grad_times_inp']"
   ]
  },
  {
   "cell_type": "markdown",
   "metadata": {},
   "source": [
    "### Call scoring functions on the data\n",
    "\n",
    "In the cell below, a reference representing 40% GC content is used"
   ]
  },
  {
   "cell_type": "code",
   "execution_count": 29,
   "metadata": {},
   "outputs": [
    {
     "name": "stdout",
     "output_type": "stream",
     "text": [
      "on method rescale_conv_revealcancel_fc\n",
      "on method rescale_all_layers\n",
      "on method revealcancel_all_layers\n",
      "on method grad_times_inp\n",
      "on method guided_backprop\n",
      "on method integrated_gradients10\n"
     ]
    }
   ],
   "source": [
    "background = OrderedDict([('A', 0.3), ('C', 0.2), ('G', 0.2), ('T', 0.3)])\n",
    "\n",
    "from collections import OrderedDict\n",
    "method_to_task_to_scores = OrderedDict()\n",
    "for method_name, score_func in method_to_scoring_func.items():\n",
    "    print(\"on method\",method_name)\n",
    "    method_to_task_to_scores[method_name] = OrderedDict()\n",
    "    for task_idx in [0,1,2]:\n",
    "        scores = np.array(score_func(\n",
    "                    task_idx=task_idx,\n",
    "                    input_data_list=[onehot_data],\n",
    "                    input_references_list=[\n",
    "                     np.array([background['A'],\n",
    "                               background['C'],\n",
    "                               background['G'],\n",
    "                               background['T']])[None,None,:]],\n",
    "                    batch_size=200,\n",
    "                    progress_update=None))\n",
    "        assert scores.shape[2]==4\n",
    "        #The sum over the ACGT axis in the code below is important! Recall that DeepLIFT\n",
    "        # assigns contributions based on difference-from-reference; if\n",
    "        # a position is [1,0,0,0] (i.e. 'A') in the actual sequence and [0.3, 0.2, 0.2, 0.3]\n",
    "        # in the reference, importance will be assigned to the difference (1-0.3)\n",
    "        # in the 'A' channel, (0-0.2) in the 'C' channel,\n",
    "        # (0-0.2) in the G channel, and (0-0.3) in the T channel. You want to take the importance\n",
    "        # on all four channels and sum them up, so that at visualization-time you can project the\n",
    "        # total importance over all four channels onto the base that is actually present (i.e. the 'A'). If you\n",
    "        # don't do this, your visualization will look very confusing as multiple bases will be highlighted at\n",
    "        # every position and you won't know which base is the one that is actually present in the sequence!\n",
    "        scores = np.sum(scores, axis=2)\n",
    "        method_to_task_to_scores[method_name][task_idx] = scores"
   ]
  },
  {
   "cell_type": "markdown",
   "metadata": {},
   "source": [
    "## Using multiple shuffled references\n",
    "\n",
    "As an alternative to using a flat reference based on GC content (which can sometimes produce artefacts), we propose averaging the scores produced using mutliple references which are produced by shuffling the original sequence. We find in practice that this can give more robust results. Note that in general, the optimal choice of reference is an area of active research."
   ]
  },
  {
   "cell_type": "code",
   "execution_count": 77,
   "metadata": {},
   "outputs": [
    {
     "data": {
      "text/plain": [
       "<function deeplift.util.get_shuffle_seq_ref_function.<locals>.compute_scores_with_shuffle_seq_refs(task_idx, input_data_sequences, num_refs_per_seq, batch_size, seed=1, progress_update=None)>"
      ]
     },
     "execution_count": 77,
     "metadata": {},
     "output_type": "execute_result"
    }
   ],
   "source": [
    "rescale_conv_revealcancel_fc_many_refs_func"
   ]
  },
  {
   "cell_type": "code",
   "execution_count": 31,
   "metadata": {},
   "outputs": [
    {
     "name": "stdout",
     "output_type": "stream",
     "text": [
      "1000 reference seqs generated\n",
      "2000 reference seqs generated\n",
      "3000 reference seqs generated\n",
      "4000 reference seqs generated\n",
      "5000 reference seqs generated\n",
      "6000 reference seqs generated\n",
      "7000 reference seqs generated\n",
      "8000 reference seqs generated\n",
      "One hot encoding sequences...\n",
      "One hot encoding done...\n",
      "Done 0\n",
      "Done 1000\n",
      "Done 2000\n",
      "Done 3000\n",
      "Done 4000\n",
      "Done 5000\n",
      "Done 6000\n",
      "Done 7000\n",
      "1000 reference seqs generated\n",
      "2000 reference seqs generated\n",
      "3000 reference seqs generated\n",
      "4000 reference seqs generated\n",
      "5000 reference seqs generated\n",
      "6000 reference seqs generated\n",
      "7000 reference seqs generated\n",
      "8000 reference seqs generated\n",
      "One hot encoding sequences...\n",
      "One hot encoding done...\n",
      "Done 0\n",
      "Done 1000\n",
      "Done 2000\n",
      "Done 3000\n",
      "Done 4000\n",
      "Done 5000\n",
      "Done 6000\n",
      "Done 7000\n",
      "1000 reference seqs generated\n",
      "2000 reference seqs generated\n",
      "3000 reference seqs generated\n",
      "4000 reference seqs generated\n",
      "5000 reference seqs generated\n",
      "6000 reference seqs generated\n",
      "7000 reference seqs generated\n",
      "8000 reference seqs generated\n",
      "One hot encoding sequences...\n",
      "One hot encoding done...\n",
      "Done 0\n",
      "Done 1000\n",
      "Done 2000\n",
      "Done 3000\n",
      "Done 4000\n",
      "Done 5000\n",
      "Done 6000\n",
      "Done 7000\n"
     ]
    }
   ],
   "source": [
    "imp.reload(deeplift.util)\n",
    "from deeplift.util import get_shuffle_seq_ref_function\n",
    "#from deeplift.util import randomly_shuffle_seq\n",
    "from deeplift.dinuc_shuffle import dinuc_shuffle #function to do a dinucleotide shuffle\n",
    "\n",
    "rescale_conv_revealcancel_fc_many_refs_func = get_shuffle_seq_ref_function(\n",
    "    #score_computation_function is the original function to compute scores\n",
    "    score_computation_function=method_to_scoring_func['rescale_conv_revealcancel_fc'],\n",
    "    #shuffle_func is the function that shuffles the sequence\n",
    "    #technically, given the background of this simulation, randomly_shuffle_seq\n",
    "    #makes more sense. However, on real data, a dinuc shuffle is advisable due to\n",
    "    #the strong bias against CG dinucleotides\n",
    "    shuffle_func=dinuc_shuffle,\n",
    "    one_hot_func=lambda x: np.array([one_hot_encode_along_channel_axis(seq) for seq in x]))\n",
    "\n",
    "num_refs_per_seq=10 #number of references to generate per sequence\n",
    "method_to_task_to_scores['rescale_conv_revealcancel_fc_multiref_'+str(num_refs_per_seq)] = OrderedDict()\n",
    "for task_idx in [0,1,2]:\n",
    "    #The sum over the ACGT axis in the code below is important! Recall that DeepLIFT\n",
    "    # assigns contributions based on difference-from-reference; if\n",
    "    # a position is [1,0,0,0] (i.e. 'A') in the actual sequence and [0, 1, 0, 0]\n",
    "    # in the reference, importance will be assigned to the difference (1-0)\n",
    "    # in the 'A' channel, and (0-1) in the 'C' channel. You want to take the importance\n",
    "    # on all channels and sum them up, so that at visualization-time you can project the\n",
    "    # total importance over all four channels onto the base that is actually present (i.e. the 'A'). If you\n",
    "    # don't do this, your visualization will look very confusing as multiple bases will be highlighted at\n",
    "    # every position and you won't know which base is the one that is actually present in the sequence!\n",
    "    method_to_task_to_scores['rescale_conv_revealcancel_fc_multiref_'+str(num_refs_per_seq)][task_idx] =\\\n",
    "        np.sum(\n",
    "            rescale_conv_revealcancel_fc_many_refs_func(\n",
    "                task_idx=task_idx,\n",
    "                input_data_sequences=data.sequences,\n",
    "                num_refs_per_seq=num_refs_per_seq,\n",
    "                batch_size=200,\n",
    "                progress_update=1000,\n",
    "            ),\n",
    "            axis=2\n",
    "        )"
   ]
  },
  {
   "cell_type": "markdown",
   "metadata": {},
   "source": [
    "## Visualize scores on individual sequences\n",
    "\n",
    "Visualize the scores at specific sequences. Cyan boxes indicate the ground-truth locations of the inserted TAL1_known1 motifs, red boxes indicate the ground-truth locations of the inserted GATA_disc1 motifs"
   ]
  },
  {
   "cell_type": "code",
   "execution_count": 39,
   "metadata": {
    "scrolled": false
   },
   "outputs": [
    {
     "name": "stdout",
     "output_type": "stream",
     "text": [
      "Scores for task 0 for example 731\n",
      "rescale_conv_revealcancel_fc\n"
     ]
    },
    {
     "data": {
      "image/png": "[encoded data removed]",
      "text/plain": [
       "<Figure size 1440x144 with 1 Axes>"
      ]
     },
     "metadata": {
      "needs_background": "light"
     },
     "output_type": "display_data"
    },
    {
     "name": "stdout",
     "output_type": "stream",
     "text": [
      "Scores for task 1 for example 197\n",
      "rescale_conv_revealcancel_fc\n"
     ]
    },
    {
     "data": {
      "image/png": "[encoded data removed]",
      "text/plain": [
       "<Figure size 1440x144 with 1 Axes>"
      ]
     },
     "metadata": {
      "needs_background": "light"
     },
     "output_type": "display_data"
    }
   ],
   "source": [
    "#visualize scores + ground-truth locations of motifs\n",
    "%matplotlib inline\n",
    "from deeplift.visualization import viz_sequence\n",
    "\n",
    "for task, idx in [(0,731), #illustrates failure of grad*inp, integrated grads, deeplift-rescale\n",
    "                  (1,197)  #illustrates non-specific firing of guided backprop\n",
    "                 ]:\n",
    "    \n",
    "    print(\"Scores for task\",task,\"for example\",idx)\n",
    "    for method_name in [\n",
    "                        #'grad_times_inp',\n",
    "                        #'guided_backprop',\n",
    "                        #'integrated_gradients10',\n",
    "                        #'rescale_all_layers', \n",
    "                        #'revealcancel_all_layers',\n",
    "                        'rescale_conv_revealcancel_fc',\n",
    "                        #'rescale_conv_revealcancel_fc_multiref_10'\n",
    "                        ]:\n",
    "        scores = method_to_task_to_scores[method_name][task]\n",
    "        scores_for_idx = scores[idx]\n",
    "        original_onehot = onehot_data[idx]\n",
    "        scores_for_idx = original_onehot*scores_for_idx[:,None]\n",
    "        print(method_name)\n",
    "        highlight = {'blue':[\n",
    "                (embedding.startPos, embedding.startPos+len(embedding.what))\n",
    "                for embedding in data.embeddings[idx] if 'GATA_disc1' in embedding.what.getDescription()],\n",
    "                'green':[\n",
    "                (embedding.startPos, embedding.startPos+len(embedding.what))\n",
    "                for embedding in data.embeddings[idx] if 'TAL1_known1' in embedding.what.getDescription()]}\n",
    "        viz_sequence.plot_weights(scores_for_idx, subticks_frequency=10, highlight=highlight)"
   ]
  },
  {
   "cell_type": "code",
   "execution_count": null,
   "metadata": {},
   "outputs": [],
   "source": [
    "viz_sequence.plot_weights()"
   ]
  },
  {
   "cell_type": "code",
   "execution_count": 80,
   "metadata": {},
   "outputs": [
    {
     "data": {
      "text/plain": [
       "(800, 200)"
      ]
     },
     "execution_count": 80,
     "metadata": {},
     "output_type": "execute_result"
    }
   ],
   "source": [
    "scores = method_to_task_to_scores['rescale_conv_revealcancel_fc'][1]\n",
    "scores.shape"
   ]
  },
  {
   "cell_type": "code",
   "execution_count": 64,
   "metadata": {},
   "outputs": [],
   "source": [
    "scores_for_idx = scores[731]\n",
    "original_onehot = onehot_data[731]\n",
    "scores_for_idx = original_onehot*scores_for_idx[:,None]"
   ]
  },
  {
   "cell_type": "code",
   "execution_count": 65,
   "metadata": {},
   "outputs": [
    {
     "data": {
      "image/png": "[encoded data removed]",
      "text/plain": [
       "<Figure size 1440x144 with 1 Axes>"
      ]
     },
     "metadata": {
      "needs_background": "light"
     },
     "output_type": "display_data"
    }
   ],
   "source": [
    "viz_sequence.plot_weights(scores_for_idx, subticks_frequency=10, highlight=highlight)"
   ]
  },
  {
   "cell_type": "code",
   "execution_count": 66,
   "metadata": {},
   "outputs": [
    {
     "data": {
      "text/plain": [
       "(200, 4)"
      ]
     },
     "execution_count": 66,
     "metadata": {},
     "output_type": "execute_result"
    }
   ],
   "source": [
    "scores_for_idx.shape"
   ]
  },
  {
   "cell_type": "code",
   "execution_count": 54,
   "metadata": {},
   "outputs": [
    {
     "data": {
      "text/plain": [
       "(800, 200)"
      ]
     },
     "execution_count": 54,
     "metadata": {},
     "output_type": "execute_result"
    }
   ],
   "source": [
    "scores.shape"
   ]
  },
  {
   "cell_type": "code",
   "execution_count": 55,
   "metadata": {},
   "outputs": [
    {
     "data": {
      "text/plain": [
       "(200, 4)"
      ]
     },
     "execution_count": 55,
     "metadata": {},
     "output_type": "execute_result"
    }
   ],
   "source": [
    "original_onehot.shape"
   ]
  },
  {
   "cell_type": "code",
   "execution_count": 56,
   "metadata": {},
   "outputs": [],
   "source": [
    "scores_for_idx = original_onehot*scores_for_idx[:,None]"
   ]
  },
  {
   "cell_type": "code",
   "execution_count": 57,
   "metadata": {},
   "outputs": [
    {
     "data": {
      "text/plain": [
       "(200, 200, 4)"
      ]
     },
     "execution_count": 57,
     "metadata": {},
     "output_type": "execute_result"
    }
   ],
   "source": [
    "scores_for_idx.shape"
   ]
  },
  {
   "cell_type": "code",
   "execution_count": 51,
   "metadata": {},
   "outputs": [
    {
     "data": {
      "text/plain": [
       "array([], dtype=float32)"
      ]
     },
     "execution_count": 51,
     "metadata": {},
     "output_type": "execute_result"
    }
   ],
   "source": [
    "scores_for_idx[197,30:60]"
   ]
  },
  {
   "cell_type": "markdown",
   "metadata": {},
   "source": [
    "## Making the scatterplots\n",
    "\n",
    "I haven't ported the code necessary to generate the scatterplots in the DeepLIFT paper in this version of DeepLIFT. However, for a notebook that reproduces the figures in the paper, feel free to look at https://github.com/kundajelab/deeplift/blob/671ee67a03bd5bebf4c405af59eec45d3ca2a288/examples/public/genomics/genomics_simulation.ipynb"
   ]
  },
  {
   "cell_type": "code",
   "execution_count": null,
   "metadata": {
    "collapsed": true
   },
   "outputs": [],
   "source": []
  }
 ],
 "metadata": {
  "kernelspec": {
   "display_name": "Python 3",
   "language": "python",
   "name": "python3"
  },
  "language_info": {
   "codemirror_mode": {
    "name": "ipython",
    "version": 3
   },
   "file_extension": ".py",
   "mimetype": "text/x-python",
   "name": "python",
   "nbconvert_exporter": "python",
   "pygments_lexer": "ipython3",
   "version": "3.6.7"
  }
 },
 "nbformat": 4,
 "nbformat_minor": 1
}
